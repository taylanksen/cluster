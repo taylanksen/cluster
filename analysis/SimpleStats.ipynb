{
 "cells": [
  {
   "cell_type": "markdown",
   "metadata": {},
   "source": [
    "# Basic stats of AU data"
   ]
  },
  {
   "cell_type": "code",
   "execution_count": null,
   "metadata": {
    "collapsed": false
   },
   "outputs": [],
   "source": [
    "datafile = '../example/all_frames.csv'\n",
    "#-----------------\n",
    "\n",
    "import pandas as pd\n",
    "import numpy as np\n",
    "pd.set_option('display.max_rows', 500)\n",
    "pd.set_option('display.max_columns', 500)\n",
    "pd.options.display.float_format = '{:,.3f}'.format\n",
    "from IPython.display import display\n",
    "import matplotlib.pyplot as plt\n",
    "\n",
    "df = pd.read_csv(datafile, skipinitialspace=True)\n",
    "\n",
    "print('n:',df.shape[0])\n",
    "\n",
    "df_c = df[df.columns[df.columns.str.contains('_c')]]\n",
    "df_r = df[df.columns[df.columns.str.contains('_r')]]\n",
    "\n",
    "print('AU_r feature count:', df_r.shape[1])\n",
    "print('AU_r features:' , list(df_r.columns))\n",
    "print('AU_c feature count:', df_c.shape[1])\n",
    "print('AU_c features:', list(df_c.columns))\n"
   ]
  },
  {
   "cell_type": "markdown",
   "metadata": {},
   "source": [
    "## Correlations"
   ]
  },
  {
   "cell_type": "code",
   "execution_count": null,
   "metadata": {
    "collapsed": false,
    "scrolled": false
   },
   "outputs": [],
   "source": [
    "def get_redundant_pairs(df):\n",
    "    '''Get diagonal and lower triangular pairs of correlation matrix'''\n",
    "    pairs_to_drop = set()\n",
    "    cols = df.columns\n",
    "    for i in range(0, df.shape[1]):\n",
    "        for j in range(0, i+1):\n",
    "            pairs_to_drop.add((cols[i], cols[j]))\n",
    "    return pairs_to_drop\n",
    "\n",
    "def get_top_abs_correlations(df, n=5):\n",
    "    au_corr = df.corr().unstack()\n",
    "    labels_to_drop = get_redundant_pairs(df)\n",
    "    au_corr = au_corr.drop(labels=labels_to_drop).reset_index()\n",
    "    au_corr.columns = ['0','1','r']\n",
    "    au_corr['abs(r)'] = au_corr['r'].abs()\n",
    "    au_corr.sort_values(by='abs(r)',ascending=False, inplace=True)\n",
    "    return au_corr[0:n]\n",
    "#============================================================\n",
    "print(\"Top AU_c Correlations\")\n",
    "display(get_top_abs_correlations(df_c, 15))\n",
    "print()\n",
    "print(\"Top AU_r Correlations\")\n",
    "display(get_top_abs_correlations(df_r, 15))"
   ]
  },
  {
   "cell_type": "markdown",
   "metadata": {},
   "source": [
    "## Histograms"
   ]
  },
  {
   "cell_type": "code",
   "execution_count": null,
   "metadata": {
    "collapsed": false,
    "scrolled": false
   },
   "outputs": [],
   "source": [
    "for feature in df_r.columns:\n",
    "    plt.hist(df_r.loc[:,feature], 100, color='green', \\\n",
    "         histtype='bar', ec='black', normed=1)\n",
    "    plt.xlabel(feature)\n",
    "    plt.ylabel('frequency')\n",
    "    plt.show()"
   ]
  },
  {
   "cell_type": "code",
   "execution_count": null,
   "metadata": {
    "collapsed": false,
    "scrolled": false
   },
   "outputs": [],
   "source": [
    "from matplotlib.colors import LogNorm\n",
    "from itertools import combinations\n",
    "\n",
    "good_features = ['AU06_r','AU07_r','AU10_r','AU12_r','AU14_r']\n",
    "\n",
    "feature_combo_list = list(combinations(good_features,2))        \n",
    "for feature_subset in feature_combo_list:\n",
    "    plt.figure(figsize=(4,4))\n",
    "    h = plt.hist2d(df.loc[:,feature_subset[0]], df.loc[:,feature_subset[1]], bins=40, norm=LogNorm())\n",
    "    #plt.hist2d(df.loc[:,feature_subset[0]], df.loc[:,feature_subset[1]], bins=40)\n",
    "    plt.xlabel(feature_subset[0])\n",
    "    plt.ylabel(feature_subset[1])\n",
    "    #plt.colorbar()\n",
    "    plt.show()\n"
   ]
  },
  {
   "cell_type": "code",
   "execution_count": null,
   "metadata": {
    "collapsed": false
   },
   "outputs": [],
   "source": [
    "from mpl_toolkits.mplot3d import Axes3D\n",
    "import matplotlib.pyplot as plt\n",
    "import numpy as np\n",
    "%matplotlib inline  \n",
    "\n",
    "\n",
    "f1 = 'AU06_r'\n",
    "f2 = 'AU12_r'\n",
    "counts, xedges, yedges, Image = plt.hist2d(df.loc[:,f1], df.loc[:,f2], bins=20, norm=LogNorm())\n",
    "plt.close()\n",
    "data_array = counts\n",
    "#\n",
    "# Create a figure for plotting the data as a 3D histogram.\n",
    "#\n",
    "fig = plt.figure(figsize=(10,10))\n",
    "ax = fig.add_subplot(111, projection='3d')\n",
    "#\n",
    "# Create an X-Y mesh of the same dimension as the 2D data. You can\n",
    "# think of this as the floor of the plot.\n",
    "#\n",
    "x_data, y_data = np.meshgrid( np.arange(data_array.shape[1]),\n",
    "                              np.arange(data_array.shape[0]) )\n",
    "#\n",
    "# Flatten out the arrays so that they may be passed to \"ax.bar3d\".\n",
    "# Basically, ax.bar3d expects three one-dimensional arrays:\n",
    "# x_data, y_data, z_data. The following call boils down to picking\n",
    "# one entry from each array and plotting a bar to from\n",
    "# (x_data[i], y_data[i], 0) to (x_data[i], y_data[i], z_data[i]).\n",
    "#\n",
    "x_data = x_data.flatten()\n",
    "y_data = y_data.flatten()\n",
    "z_data = data_array.flatten()\n",
    "\n",
    "\n",
    "ax.bar3d( x_data,\n",
    "          y_data,\n",
    "          np.zeros(len(z_data)),\n",
    "          1, 1, z_data )\n",
    "#ax.view_init(elev=40., azim=-10)\n",
    "ax.view_init(elev=10., azim=20)\n",
    "ax.set_xlabel(f1)\n",
    "ax.set_ylabel(f2)\n",
    "#plt.savefig('3dhist.png')\n",
    "#for ii in range(0,360,1):\n",
    "#    ax.view_init(elev=10., azim=ii)\n",
    "#    plt.savefig(\"movie%d.png\" % ii)\n",
    "#\n",
    "# Finally, display the plot.\n",
    "#\n",
    "plt.show()"
   ]
  },
  {
   "cell_type": "code",
   "execution_count": null,
   "metadata": {
    "collapsed": false
   },
   "outputs": [],
   "source": [
    "y_data.shape\n"
   ]
  }
 ],
 "metadata": {
  "anaconda-cloud": {},
  "kernelspec": {
   "display_name": "Python [conda env:py35]",
   "language": "python",
   "name": "conda-env-py35-py"
  },
  "language_info": {
   "codemirror_mode": {
    "name": "ipython",
    "version": 3
   },
   "file_extension": ".py",
   "mimetype": "text/x-python",
   "name": "python",
   "nbconvert_exporter": "python",
   "pygments_lexer": "ipython3",
   "version": "3.5.2"
  }
 },
 "nbformat": 4,
 "nbformat_minor": 2
}
